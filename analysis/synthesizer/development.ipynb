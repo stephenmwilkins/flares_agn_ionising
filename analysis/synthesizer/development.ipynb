{
 "cells": [
  {
   "cell_type": "code",
   "execution_count": 19,
   "metadata": {},
   "outputs": [],
   "source": [
    "import numpy as np\n",
    "import matplotlib.pyplot as plt\n",
    "import cmasher as cmr\n",
    "from unyt import Msun, yr, Angstrom, deg, K, km, s, cm, erg\n",
    "\n",
    "from synthesizer.grid import Grid\n",
    "from synthesizer.emission_models.agn.models import DiscIncidentEmission\n",
    "from synthesizer.particle import BlackHoles\n",
    "\n",
    "# Set a random number seed to ensure consistent results\n",
    "np.random.seed(42)"
   ]
  },
  {
   "cell_type": "code",
   "execution_count": 20,
   "metadata": {},
   "outputs": [],
   "source": [
    "# set style\n",
    "plt.style.use('../matplotlibrc.txt')"
   ]
  },
  {
   "attachments": {},
   "cell_type": "markdown",
   "metadata": {},
   "source": [
    "First we need to initialise our `BlackHole` object with the parameters that will be needed to compute spectra."
   ]
  },
  {
   "cell_type": "code",
   "execution_count": 21,
   "metadata": {},
   "outputs": [],
   "source": [
    "\n",
    "blackholes = BlackHoles(\n",
    "    masses=np.array([1e7, 1e8, 1e9])*Msun,\n",
    "    accretion_rates=np.array([0.2, 1, 2])*Msun/yr,\n",
    ")"
   ]
  },
  {
   "attachments": {},
   "cell_type": "markdown",
   "metadata": {},
   "source": [
    "Like other `synthesizer` objects we can get more information using the `print` command."
   ]
  },
  {
   "cell_type": "code",
   "execution_count": 22,
   "metadata": {},
   "outputs": [
    {
     "name": "stdout",
     "output_type": "stream",
     "text": [
      "+----------------------------------------------------------------------------------+\n",
      "|                                    PARTICLES                                     |\n",
      "+---------------------------+------------------------------------------------------+\n",
      "| Attribute                 | Value                                                |\n",
      "+---------------------------+------------------------------------------------------+\n",
      "| nparticles                | 3                                                    |\n",
      "+---------------------------+------------------------------------------------------+\n",
      "| metallicity_floor         | 1.00e-05                                             |\n",
      "+---------------------------+------------------------------------------------------+\n",
      "| name                      | 'Black Holes'                                        |\n",
      "+---------------------------+------------------------------------------------------+\n",
      "| component_type            | 'BlackHoles'                                         |\n",
      "+---------------------------+------------------------------------------------------+\n",
      "| ionisation_parameter_blr  | 0.10                                                 |\n",
      "+---------------------------+------------------------------------------------------+\n",
      "| covering_fraction_blr     | 0.10                                                 |\n",
      "+---------------------------+------------------------------------------------------+\n",
      "| ionisation_parameter_nlr  | 0.01                                                 |\n",
      "+---------------------------+------------------------------------------------------+\n",
      "| covering_fraction_nlr     | 0.10                                                 |\n",
      "+---------------------------+------------------------------------------------------+\n",
      "| cosine_inclination        | 1.00                                                 |\n",
      "+---------------------------+------------------------------------------------------+\n",
      "| nbh                       | 3                                                    |\n",
      "+---------------------------+------------------------------------------------------+\n",
      "| masses                    | [1.e+07 1.e+08 1.e+09] Msun                          |\n",
      "+---------------------------+------------------------------------------------------+\n",
      "| mass                      | [1.e+07 1.e+08 1.e+09] Msun                          |\n",
      "+---------------------------+------------------------------------------------------+\n",
      "| accretion_rate            | [0.2 1.  2. ] Msun/yr                                |\n",
      "+---------------------------+------------------------------------------------------+\n",
      "| epsilon                   | [0.1]                                                |\n",
      "+---------------------------+------------------------------------------------------+\n",
      "| accretion_rate_eddington  | [0.90103026 0.45051513 0.09010303]                   |\n",
      "+---------------------------+------------------------------------------------------+\n",
      "| bolometric_luminosity     | [1.13259503e+45 5.66297517e+45 1.13259503e+46] erg/s |\n",
      "+---------------------------+------------------------------------------------------+\n",
      "| hydrogen_density_blr      | 1000000000.0 cm**(-3)                                |\n",
      "+---------------------------+------------------------------------------------------+\n",
      "| velocity_dispersion_blr   | 2000 km/s                                            |\n",
      "+---------------------------+------------------------------------------------------+\n",
      "| hydrogen_density_nlr      | 10000.0 cm**(-3)                                     |\n",
      "+---------------------------+------------------------------------------------------+\n",
      "| velocity_dispersion_nlr   | 500 km/s                                             |\n",
      "+---------------------------+------------------------------------------------------+\n",
      "| inclination               | 0.0 degree                                           |\n",
      "+---------------------------+------------------------------------------------------+\n",
      "| theta_torus               | 10 degree                                            |\n",
      "+---------------------------+------------------------------------------------------+\n",
      "| torus_fraction            | 0.1111111111111111                                   |\n",
      "+---------------------------+------------------------------------------------------+\n",
      "| bb_temperature            | [473702.32602137 224000.          84237.50928514] K  |\n",
      "+---------------------------+------------------------------------------------------+\n",
      "| eddington_luminosity      | [1.257e+45 1.257e+46 1.257e+47] erg/s                |\n",
      "+---------------------------+------------------------------------------------------+\n",
      "| eddington_ratio           | [0.90103026 0.45051513 0.09010303]                   |\n",
      "+---------------------------+------------------------------------------------------+\n",
      "| accretion_rates           | [0.2 1.  2. ] Msun/yr                                |\n",
      "+---------------------------+------------------------------------------------------+\n",
      "| inclinations              | 0.0 degree                                           |\n",
      "+---------------------------+------------------------------------------------------+\n",
      "| epsilons                  | [0.1]                                                |\n",
      "+---------------------------+------------------------------------------------------+\n",
      "| bb_temperatures           | [473702.32602137 224000.          84237.50928514] K  |\n",
      "+---------------------------+------------------------------------------------------+\n",
      "| bolometric_luminosities   | [1.13259503e+45 5.66297517e+45 1.13259503e+46] erg/s |\n",
      "+---------------------------+------------------------------------------------------+\n",
      "| accretion_rates_eddington | [0.90103026 0.45051513 0.09010303]                   |\n",
      "+---------------------------+------------------------------------------------------+\n",
      "| eddington_ratios          | [0.90103026 0.45051513 0.09010303]                   |\n",
      "+---------------------------+------------------------------------------------------+\n"
     ]
    },
    {
     "name": "stderr",
     "output_type": "stream",
     "text": [
      "/Users/sw376/Dropbox/Research/projects/synthesizer/src/synthesizer/utils/ascii_table.py:67: FutureWarning: The `particle_photo_fluxes` attribute is deprecated. Use `particle_photo_fnu` instead. Will be removed in v1.0.0\n",
      "  self.attributes[name] = getattr(obj, name)\n",
      "/Users/sw376/Dropbox/Research/projects/synthesizer/src/synthesizer/utils/ascii_table.py:67: FutureWarning: The `photo_fluxes` attribute is deprecated. Use `photo_fnu` instead. Will be removed in v1.0.0\n",
      "  self.attributes[name] = getattr(obj, name)\n",
      "/Users/sw376/Dropbox/Research/projects/synthesizer/src/synthesizer/utils/ascii_table.py:67: FutureWarning: The `particle_photo_luminosities` attribute is deprecated. Use `particle_photo_lnu` instead. Will be removed in v1.0.0\n",
      "  self.attributes[name] = getattr(obj, name)\n"
     ]
    }
   ],
   "source": [
    "print(blackholes)"
   ]
  },
  {
   "attachments": {},
   "cell_type": "markdown",
   "metadata": {},
   "source": [
    "## Generating spectral energy distribution"
   ]
  },
  {
   "attachments": {},
   "cell_type": "markdown",
   "metadata": {},
   "source": [
    "We can generate spectra by passing a blackhole emission model (e.g. the `UnifiedAGN` model described in [emission_models](emission_models.ipynb)) to the spectra creation method (`get_intinsic_spectra`)."
   ]
  },
  {
   "attachments": {},
   "cell_type": "markdown",
   "metadata": {},
   "source": [
    "## Open the disc grid"
   ]
  },
  {
   "cell_type": "code",
   "execution_count": 23,
   "metadata": {},
   "outputs": [
    {
     "name": "stdout",
     "output_type": "stream",
     "text": [
      "+----------------------------------------------------------------------------------------------------------------+\n",
      "|                                                      GRID                                                      |\n",
      "+--------------------------------+-------------------------------------------------------------------------------+\n",
      "| Attribute                      | Value                                                                         |\n",
      "+--------------------------------+-------------------------------------------------------------------------------+\n",
      "| grid_dir                       | '/Users/sw376/Dropbox/Research/data/synthesizer/grids/'                       |\n",
      "+--------------------------------+-------------------------------------------------------------------------------+\n",
      "| grid_name                      | 'qsosed-isotropic'                                                            |\n",
      "+--------------------------------+-------------------------------------------------------------------------------+\n",
      "| grid_ext                       | 'hdf5'                                                                        |\n",
      "+--------------------------------+-------------------------------------------------------------------------------+\n",
      "| grid_filename                  | '/Users/sw376/Dropbox/Research/data/synthesizer/grids//qsosed-isotropic.hdf5' |\n",
      "+--------------------------------+-------------------------------------------------------------------------------+\n",
      "| reprocessed                    | False                                                                         |\n",
      "+--------------------------------+-------------------------------------------------------------------------------+\n",
      "| lines_available                | False                                                                         |\n",
      "+--------------------------------+-------------------------------------------------------------------------------+\n",
      "| naxes                          | 2                                                                             |\n",
      "+--------------------------------+-------------------------------------------------------------------------------+\n",
      "| has_lines                      | False                                                                         |\n",
      "+--------------------------------+-------------------------------------------------------------------------------+\n",
      "| has_spectra                    | True                                                                          |\n",
      "+--------------------------------+-------------------------------------------------------------------------------+\n",
      "| lines_available                | False                                                                         |\n",
      "+--------------------------------+-------------------------------------------------------------------------------+\n",
      "| reprocessed                    | False                                                                         |\n",
      "+--------------------------------+-------------------------------------------------------------------------------+\n",
      "| shape                          | (55, 20, 1999)                                                                |\n",
      "+--------------------------------+-------------------------------------------------------------------------------+\n",
      "| available_spectra              | [incident, ]                                                                  |\n",
      "+--------------------------------+-------------------------------------------------------------------------------+\n",
      "| axes                           | [mass,  accretion_rate_eddington, ]                                           |\n",
      "+--------------------------------+-------------------------------------------------------------------------------+\n",
      "| mass (55,)                     | 2.50e+35 -> 4.99e+40 (Mean: 4.42e+39)                                         |\n",
      "+--------------------------------+-------------------------------------------------------------------------------+\n",
      "| accretion_rate_eddington (20,) | 3.16e-02 -> 2.51e+00 (Mean: 6.05e-01)                                         |\n",
      "+--------------------------------+-------------------------------------------------------------------------------+\n",
      "| lam (1999,)                    | 1.25e-03 Å -> 1.23e+05 Å (Mean: 6.73e+03 Å)                                   |\n",
      "+--------------------------------+-------------------------------------------------------------------------------+\n",
      "| spectra                        | incident: ndarray                                                             |\n",
      "+--------------------------------+-------------------------------------------------------------------------------+\n",
      "| parameters                     | axes: ndarray                                                                 |\n",
      "|                                | date_created: str                                                             |\n",
      "|                                | synthesizer_grids_version: str                                                |\n",
      "|                                | synthesizer_version: str                                                      |\n",
      "+--------------------------------+-------------------------------------------------------------------------------+\n",
      "| log10_specific_ionising_lum    | HI: ndarray                                                                   |\n",
      "|                                | HeII: ndarray                                                                 |\n",
      "+--------------------------------+-------------------------------------------------------------------------------+\n"
     ]
    }
   ],
   "source": [
    "\n",
    "grid_name = 'qsosed-isotropic'\n",
    "grid_dir = \"/Users/sw376/Dropbox/Research/data/synthesizer/grids/\"\n",
    "\n",
    "grid = Grid(\n",
    "    grid_name=grid_name, \n",
    "    grid_dir=grid_dir,\n",
    "    read_lines=False)\n",
    "\n",
    "print(grid)"
   ]
  },
  {
   "attachments": {},
   "cell_type": "markdown",
   "metadata": {},
   "source": [
    "# Initialise the emission model"
   ]
  },
  {
   "cell_type": "code",
   "execution_count": 24,
   "metadata": {},
   "outputs": [
    {
     "name": "stdout",
     "output_type": "stream",
     "text": [
      "|==== EmissionModel: disc_incident ===|\n",
      "|-------------------------------------|\n",
      "|  DISC_INCIDENT (blackhole)          |\n",
      "|-------------------------------------|\n",
      "|Extraction model:                    |\n",
      "|  Grid: qsosed-isotropic             |\n",
      "|  Extract key: incident              |\n",
      "|  Escape fraction: None              |\n",
      "|  Save emission: True                |\n",
      "|=====================================|\n"
     ]
    }
   ],
   "source": [
    "\n",
    "emission_model = DiscIncidentEmission(grid)\n",
    "\n",
    "print(emission_model)\n"
   ]
  },
  {
   "attachments": {},
   "cell_type": "markdown",
   "metadata": {},
   "source": [
    "### Generate spectra "
   ]
  },
  {
   "cell_type": "code",
   "execution_count": 25,
   "metadata": {},
   "outputs": [
    {
     "name": "stdout",
     "output_type": "stream",
     "text": [
      "(3, 1999)\n",
      "[1.13259503e+45 5.66297517e+45 1.13259503e+46] erg/s\n",
      "[1.13259503e+45 5.66297517e+45 1.13259503e+46] erg/s\n"
     ]
    },
    {
     "name": "stderr",
     "output_type": "stream",
     "text": [
      "/var/folders/1r/dyc06cz53k1g87b17q09by98000ft2/T/ipykernel_13622/544038840.py:2: FutureWarning: get_particle_spectra is now just a wrapper around get_spectra. It will be removed by v1.0.0.\n",
      "  blackholes.get_particle_spectra(emission_model)\n"
     ]
    }
   ],
   "source": [
    "# get the spectra assuming this emission model\n",
    "blackholes.get_particle_spectra(emission_model)\n",
    "\n",
    "# shorthand\n",
    "spectra = blackholes.particle_spectra['disc_incident']\n",
    "\n",
    "\n",
    "\n",
    "print(spectra.shape)\n",
    "\n",
    "print(spectra.bolometric_luminosity)\n",
    "print(blackholes.bolometric_luminosity)"
   ]
  },
  {
   "cell_type": "code",
   "execution_count": 26,
   "metadata": {},
   "outputs": [
    {
     "name": "stdout",
     "output_type": "stream",
     "text": [
      "[1.01760167e+10 1.07291908e+10 9.92560639e+09] 1/erg\n"
     ]
    }
   ],
   "source": [
    "ionising_photon_luminosity = spectra.calculate_ionising_photon_production_rate()\n",
    "\n",
    "ionising_bolometric_correction = ionising_photon_luminosity/spectra.bolometric_luminosity\n",
    "\n",
    "\n",
    "print(ionising_bolometric_correction)\n",
    "\n"
   ]
  },
  {
   "attachments": {},
   "cell_type": "markdown",
   "metadata": {},
   "source": [
    "## H-alpha luminosities"
   ]
  },
  {
   "cell_type": "code",
   "execution_count": 27,
   "metadata": {},
   "outputs": [
    {
     "name": "stdout",
     "output_type": "stream",
     "text": [
      "[1.57561145e+43 8.30631300e+43 1.53683897e+44] erg/s\n"
     ]
    }
   ],
   "source": [
    "\n",
    "# for converting Q to Halpha luminosity from Kennicutt 1998\n",
    "correction_factor = (1.08E-53 / 7.9E-42) * erg\n",
    "\n",
    "halpha_luminosity = ionising_photon_luminosity * correction_factor\n",
    "\n",
    "print(halpha_luminosity)"
   ]
  },
  {
   "cell_type": "code",
   "execution_count": 1,
   "metadata": {},
   "outputs": [],
   "source": [
    "from unyt import dimensionless"
   ]
  }
 ],
 "metadata": {
  "kernelspec": {
   "display_name": "venv",
   "language": "python",
   "name": "python3"
  },
  "language_info": {
   "codemirror_mode": {
    "name": "ipython",
    "version": 3
   },
   "file_extension": ".py",
   "mimetype": "text/x-python",
   "name": "python",
   "nbconvert_exporter": "python",
   "pygments_lexer": "ipython3",
   "version": "3.10.11"
  },
  "orig_nbformat": 4,
  "vscode": {
   "interpreter": {
    "hash": "7c5bcdb6b434f1b76397405a2853493c516cedf626715680602bf851257d481c"
   }
  }
 },
 "nbformat": 4,
 "nbformat_minor": 2
}
