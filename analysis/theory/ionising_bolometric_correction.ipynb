{
 "cells": [
  {
   "cell_type": "code",
   "execution_count": 1,
   "metadata": {},
   "outputs": [],
   "source": [
    "from unyt import Msun, erg, kg, eV, Angstrom, c, s, cm, h\n",
    "from synthesizer.grid import Grid\n",
    "import numpy as np\n",
    "import matplotlib as mpl\n",
    "import matplotlib.pyplot as plt\n",
    "\n",
    "import cmasher as cmr\n",
    "import copy\n",
    "\n",
    "# set style\n",
    "plt.style.use('../matplotlibrc.txt')\n"
   ]
  },
  {
   "attachments": {},
   "cell_type": "markdown",
   "metadata": {},
   "source": [
    "Kennicutt (1998) value (here for validation)"
   ]
  },
  {
   "cell_type": "code",
   "execution_count": 2,
   "metadata": {},
   "outputs": [
    {
     "name": "stdout",
     "output_type": "stream",
     "text": [
      "1.3670886075949369e-12 erg\n"
     ]
    }
   ],
   "source": [
    "# for converting Q to Halpha luminosity from Kennicutt 1998\n",
    "Kennicutt98 = (1.08E-53 / 7.9E-42) * erg\n",
    "print(Kennicutt98)\n"
   ]
  },
  {
   "attachments": {},
   "cell_type": "markdown",
   "metadata": {},
   "source": [
    "# Derivation of calibrations"
   ]
  },
  {
   "cell_type": "code",
   "execution_count": 3,
   "metadata": {},
   "outputs": [],
   "source": [
    "\n",
    "alpha = {}\n",
    "alpha['B'] = {}\n",
    "alpha['B'][5000] = 4.54E-13 * cm**3 / s\n",
    "alpha['B'][10000] = 2.59E-13 * cm**3 / s\n",
    "alpha['B'][14000] = 2.0E-13 * cm**3 / s #GUESS\n",
    "alpha['B'][20000] = 1.43E-13 * cm**3 / s\n",
    "\n",
    "alpha_Hbeta = {}\n",
    "alpha_Hbeta['A'] = {}\n",
    "alpha_Hbeta['A'][5000] = 3.78E-14 * cm**3 / s\n",
    "alpha_Hbeta['A'][10000] = 2.04E-14 * cm**3 / s\n",
    "alpha_Hbeta['A'][20000] = 1.03E-14 * cm**3 / s\n",
    "\n",
    "alpha_Hbeta['B'] = {}\n",
    "alpha_Hbeta['B'][5000] = 5.37E-14 * cm**3 / s\n",
    "alpha_Hbeta['B'][10000] = 3.03E-14 * cm**3 / s\n",
    "alpha_Hbeta['B'][14000] = 2.3E-14 * cm**3 / s # GUESS\n",
    "alpha_Hbeta['B'][20000] = 1.62E-14 * cm**3 / s\n",
    "\n",
    "\n",
    "# relative to Hbeta\n",
    "relative_line_intensities = {}\n",
    "relative_line_intensities['A'] = {}\n",
    "relative_line_intensities['A']['Halpha'] = {}\n",
    "relative_line_intensities['A']['Halpha'][5000] = 3.10\n",
    "relative_line_intensities['A']['Halpha'][10000] = 2.86\n",
    "relative_line_intensities['A']['Halpha'][20000] = 2.69\n",
    "\n",
    "relative_line_intensities['B'] = {}\n",
    "relative_line_intensities['B']['Halpha'] = {}\n",
    "relative_line_intensities['B']['Halpha'][5000] = 3.05\n",
    "relative_line_intensities['B']['Halpha'][10000] = 2.87\n",
    "relative_line_intensities['B']['Halpha'][20000] = 2.76\n",
    "\n",
    "energy = {}\n",
    "energy['Halpha'] = 1.89 * eV\n",
    "energy['Hbeta'] = 2.55 * eV\n",
    "\n"
   ]
  },
  {
   "attachments": {},
   "cell_type": "markdown",
   "metadata": {},
   "source": [
    "## Low-density limit"
   ]
  },
  {
   "attachments": {},
   "cell_type": "markdown",
   "metadata": {},
   "source": [
    "### Number of photons per recombination\n",
    "\n",
    "$\\alpha_{H\\beta}/\\alpha_{B}$"
   ]
  },
  {
   "cell_type": "code",
   "execution_count": 4,
   "metadata": {},
   "outputs": [
    {
     "name": "stdout",
     "output_type": "stream",
     "text": [
      "0.11698841698841698 dimensionless\n"
     ]
    }
   ],
   "source": [
    "line = 'Hbeta'\n",
    "temperature = 10000\n",
    "print(alpha_Hbeta['B'][temperature]/alpha['B'][temperature])"
   ]
  },
  {
   "attachments": {},
   "cell_type": "markdown",
   "metadata": {},
   "source": [
    "### Luminosity per ionising photon\n",
    "\n",
    "$L_{H\\beta} / \\int_{\\nu_0}^{\\infty}\\frac{L_{\\nu}{h\\nu}}{\\rm d}\\nu = h\\nu_{H\\beta}\\frac{\\alpha_{H\\beta}}{\\alpha_{B}}$"
   ]
  },
  {
   "cell_type": "code",
   "execution_count": 5,
   "metadata": {},
   "outputs": [
    {
     "name": "stdout",
     "output_type": "stream",
     "text": [
      "4.77962054297027e-13 erg\n"
     ]
    }
   ],
   "source": [
    "# Hbeta\n",
    "conversion_Hbeta = energy['Hbeta']*alpha_Hbeta['B'][temperature]/alpha['B'][temperature]\n",
    "print(conversion_Hbeta.to('erg'))"
   ]
  },
  {
   "cell_type": "code",
   "execution_count": 6,
   "metadata": {},
   "outputs": [
    {
     "name": "stdout",
     "output_type": "stream",
     "text": [
      "1.3717510958324675e-12 erg\n"
     ]
    }
   ],
   "source": [
    "conversion_Halpha_low_density = conversion_Hbeta * relative_line_intensities['B']['Halpha'][temperature]\n",
    "print(conversion_Halpha_low_density.to('erg'))"
   ]
  },
  {
   "attachments": {},
   "cell_type": "markdown",
   "metadata": {},
   "source": [
    "## BLR\n",
    "\n",
    "Taken from Page 366 of Osterbrok"
   ]
  },
  {
   "cell_type": "code",
   "execution_count": 7,
   "metadata": {},
   "outputs": [],
   "source": [
    "homogeneous_blr_relative_line_intensities = {}\n",
    "homogeneous_blr_relative_line_intensities[10000] = {}\n",
    "homogeneous_blr_relative_line_intensities[10000]['B'] = 0.77 # the case B value\n",
    "homogeneous_blr_relative_line_intensities[10000]['Halpha'] = 4.94\n",
    "\n",
    "homogeneous_blr_relative_line_intensities[14000] = {}\n",
    "homogeneous_blr_relative_line_intensities[14000]['B'] = 4.52 # the case B value\n",
    "homogeneous_blr_relative_line_intensities[14000]['Halpha'] = 5.70"
   ]
  },
  {
   "cell_type": "code",
   "execution_count": 8,
   "metadata": {},
   "outputs": [
    {
     "name": "stdout",
     "output_type": "stream",
     "text": [
      "10000 3.0664059067887187e-12 erg, 2.235395266754152 dimensionless\n",
      "14000 5.924951720789934e-13 erg, 0.4319261518208804 dimensionless\n",
      "3.0664059067887187e-12 erg\n"
     ]
    }
   ],
   "source": [
    "\n",
    "\n",
    "def calculate_conversion(temperature):\n",
    "\n",
    "    conversion_Hbeta_blr = energy['Hbeta'] * (alpha_Hbeta['B'][temperature]/alpha['B'][temperature]) / homogeneous_blr_relative_line_intensities[temperature]['B']\n",
    "\n",
    "    conversion_Halpha_blr = conversion_Hbeta_blr * homogeneous_blr_relative_line_intensities[temperature]['Halpha']\n",
    "\n",
    "    return conversion_Halpha_blr\n",
    "\n",
    "\n",
    "for temperature in [10000, 14000]:\n",
    "\n",
    "    conversion_Halpha_blr = calculate_conversion(temperature)    \n",
    "\n",
    "    print(f\"{temperature} {conversion_Halpha_blr.to('erg')}, {conversion_Halpha_blr/conversion_Halpha_low_density}\")\n",
    "\n",
    "\n",
    "conversion_Halpha_blr = calculate_conversion(10000)    \n",
    "print(conversion_Halpha_blr.to('erg'))"
   ]
  },
  {
   "attachments": {},
   "cell_type": "markdown",
   "metadata": {},
   "source": [
    "# Create grid plots"
   ]
  },
  {
   "cell_type": "code",
   "execution_count": 9,
   "metadata": {},
   "outputs": [],
   "source": [
    "disc_model = 'qsosed-isotropic'\n",
    "grid_name = disc_model\n",
    "\n",
    "# photoionisation_model = 'cloudy-c23.01'\n",
    "# base_grid_name = f'{disc_model}_{photoionisation_model}'\n",
    "# grid_name = base_grid_name+'-'+grid_type\n",
    "\n",
    "grid_dir = \"/Users/sw376/Dropbox/Research/data/synthesizer/grids/\"\n",
    "\n",
    "grid_type = 'nlr'\n",
    "\n",
    "grid = Grid(\n",
    "    grid_name=grid_name, \n",
    "    grid_dir=grid_dir,\n",
    "    read_lines=False)\n",
    "\n",
    "masses = grid.mass * Msun\n"
   ]
  },
  {
   "cell_type": "code",
   "execution_count": 10,
   "metadata": {},
   "outputs": [],
   "source": [
    "def convert_to_bin_edges(arr):\n",
    "    \"\"\" converts an array to bin edges assuming it is regular \"\"\"\n",
    "\n",
    "    delta = arr[1] - arr[0]\n",
    "    edges = arr - delta/2.\n",
    "    edges = np.append(edges, edges[-1] + delta)\n",
    "\n",
    "    return edges"
   ]
  },
  {
   "attachments": {},
   "cell_type": "markdown",
   "metadata": {},
   "source": [
    "## Ionising photon bolometric correction"
   ]
  },
  {
   "cell_type": "code",
   "execution_count": 16,
   "metadata": {},
   "outputs": [
    {
     "name": "stdout",
     "output_type": "stream",
     "text": [
      "9.222270806091004 10.13604144539758\n"
     ]
    },
    {
     "data": {
      "image/png": "[encoded data removed]",
      "text/plain": [
       "<Figure size 350x350 with 2 Axes>"
      ]
     },
     "metadata": {},
     "output_type": "display_data"
    },
    {
     "name": "stdout",
     "output_type": "stream",
     "text": [
      "8.594615750415347 9.545052284638707\n"
     ]
    },
    {
     "data": {
      "image/png": "[encoded data removed]",
      "text/plain": [
       "<Figure size 350x350 with 2 Axes>"
      ]
     },
     "metadata": {},
     "output_type": "display_data"
    }
   ],
   "source": [
    "for ion in ['HI', 'HeII']:\n",
    "\n",
    "    if ion == 'HI': \n",
    "        ion_label = 'H^0'\n",
    "        vmin, vmax = 9.25, 10.25\n",
    "        cmap = cmr.cosmic\n",
    "    if ion == 'HeII': \n",
    "        ion_label = 'He^1'\n",
    "        vmin, vmax = 8.5, 9.75\n",
    "        cmap = cmr.gothic\n",
    "\n",
    "    g = grid.log10_specific_ionising_lum[ion]\n",
    "\n",
    "    print(np.min(g), np.max(g))\n",
    "\n",
    "    x_bin_edges = convert_to_bin_edges(np.log10(masses.to('Msun').value)) \n",
    "    y_bin_edges = convert_to_bin_edges(np.log10(grid.accretion_rate_eddington))\n",
    "\n",
    "    left = 0.2\n",
    "    right = 0.95\n",
    "    bottom = 0.15\n",
    "    top = 0.8\n",
    "\n",
    "    fig, ax = plt.subplots(figsize=(3.5,3.5))\n",
    "    plt.subplots_adjust(\n",
    "        left=left, \n",
    "        right=right, \n",
    "        top=top, \n",
    "        bottom=bottom)\n",
    "\n",
    "    cax = fig.add_axes((left, top+0.02, right-left, 0.05))\n",
    "\n",
    "   \n",
    "    norm = mpl.colors.Normalize(vmin=vmin, vmax=vmax)\n",
    "    # norm = mpl.colors.Normalize()\n",
    "\n",
    "    cbar = fig.colorbar(mpl.cm.ScalarMappable(norm=norm, cmap=cmap), cax=cax, orientation = 'horizontal') # add the colourbar\n",
    "\n",
    "    cax.xaxis.tick_top()\n",
    "    cax.xaxis.set_label_position('top')\n",
    "    cax.set_xlabel(rf'$\\rm log_{{10}}[(Q({ion_label})/L_{{\\rm bol}})/erg^{{-1}}]$')\n",
    "\n",
    "\n",
    "    extent = (x_bin_edges[0], x_bin_edges[-1], y_bin_edges[0], y_bin_edges[-1])\n",
    "\n",
    "    ax.imshow(g.T, aspect = 'auto', origin = 'lower', cmap = cmap, extent = extent, vmin=vmin, vmax=vmax)\n",
    "    # ax.imshow(slice, aspect = 'auto', origin = 'lower', extent = (z_bin_edges[0], z_bin_edges[-1], log10L_bin_edges[0], log10L_bin_edges[-1]), vmin = vmin, vmax = vmax, cmap = cmap)\n",
    "\n",
    "    ax.set_xlabel(r'$\\rm log_{10}(M_{\\bullet}/M_{\\odot})$')\n",
    "    ax.set_ylabel(r'$\\rm log_{10}(\\dot{M}_{\\bullet}/\\dot{M}_{\\bullet, Edd})$')\n",
    "\n",
    "    ax.grid(False)\n",
    "\n",
    "    fig.savefig(f'figures/qsosed_{ion}_ionising_bolometric_correction.pdf')\n",
    "    plt.show()"
   ]
  },
  {
   "attachments": {},
   "cell_type": "markdown",
   "metadata": {},
   "source": [
    "## Halpha bolometric correction"
   ]
  },
  {
   "cell_type": "code",
   "execution_count": 12,
   "metadata": {},
   "outputs": [
    {
     "name": "stdout",
     "output_type": "stream",
     "text": [
      "195.478749027916\n"
     ]
    }
   ],
   "source": [
    "# ionising photon bolometric correction\n",
    "ionising_bolometric_conversion = 10**grid.log10_specific_ionising_lum['HI'] / s\n",
    "\n",
    "Halpha_bolometric_correction = ionising_bolometric_conversion * conversion_Halpha_blr\n",
    "\n",
    "print(np.max(1/Halpha_bolometric_correction.to('erg/s').value))\n",
    "\n",
    "spectra = grid.get_sed(spectra_type='incident')"
   ]
  },
  {
   "cell_type": "code",
   "execution_count": 13,
   "metadata": {},
   "outputs": [
    {
     "data": {
      "image/png": "[encoded data removed]",
      "text/plain": [
       "<Figure size 350x350 with 2 Axes>"
      ]
     },
     "metadata": {},
     "output_type": "display_data"
    }
   ],
   "source": [
    "vmin, vmax = 1.3, 2.6\n",
    "cmap = cmr.get_sub_cmap(cmr.pride, 0.15, 0.85)\n",
    "\n",
    "\n",
    "x_bin_edges = convert_to_bin_edges(np.log10(masses.to('Msun').value)) \n",
    "y_bin_edges = convert_to_bin_edges(np.log10(grid.accretion_rate_eddington))\n",
    "\n",
    "left = 0.2\n",
    "right = 0.95\n",
    "bottom = 0.15\n",
    "top = 0.8\n",
    "\n",
    "fig, ax = plt.subplots(figsize=(3.5,3.5))\n",
    "plt.subplots_adjust(\n",
    "    left=left, \n",
    "    right=right, \n",
    "    top=top, \n",
    "    bottom=bottom)\n",
    "\n",
    "cax = fig.add_axes((left, top+0.02, right-left, 0.05))\n",
    "cax.axvline(np.log10(130.), c='k', lw=2)\n",
    "\n",
    "norm = mpl.colors.Normalize(vmin=vmin, vmax=vmax)\n",
    "# norm = mpl.colors.Normalize()\n",
    "\n",
    "cbar = fig.colorbar(mpl.cm.ScalarMappable(norm=norm, cmap=cmap), cax=cax, orientation = 'horizontal') # add the colourbar\n",
    "\n",
    "cax.xaxis.tick_top()\n",
    "cax.xaxis.set_label_position('top')\n",
    "cax.set_xlabel(r'$\\rm log_{{10}}[L_{bol}/L_{H\\alpha}]$')\n",
    "\n",
    "\n",
    "extent = (x_bin_edges[0], x_bin_edges[-1], y_bin_edges[0], y_bin_edges[-1])\n",
    "\n",
    "\n",
    "ax.imshow(np.log10(1/Halpha_bolometric_correction.to('erg/s').value.T), aspect = 'auto', origin = 'lower', cmap = cmap, extent = extent, vmin=vmin, vmax=vmax)\n",
    "# ax.imshow(slice, aspect = 'auto', origin = 'lower', extent = (z_bin_edges[0], z_bin_edges[-1], log10L_bin_edges[0], log10L_bin_edges[-1]), vmin = vmin, vmax = vmax, cmap = cmap)\n",
    "\n",
    "ax.set_xlabel(r'$\\rm log_{10}(M_{\\bullet}/M_{\\odot})$')\n",
    "ax.set_ylabel(r'$\\rm log_{10}(\\dot{M}_{\\bullet}/\\dot{M}_{\\bullet, Edd})$')\n",
    "\n",
    "ax.grid(False)\n",
    "\n",
    "fig.savefig(f'figures/qsosed_halpha_bolometric_correction.pdf')\n",
    "plt.show()"
   ]
  },
  {
   "attachments": {},
   "cell_type": "markdown",
   "metadata": {},
   "source": [
    "### Get EW"
   ]
  },
  {
   "cell_type": "code",
   "execution_count": 14,
   "metadata": {},
   "outputs": [],
   "source": [
    "lnu = spectra.measure_window_lnu((6550, 6590) * Angstrom)\n",
    "llam = lnu * c / (6575 * Angstrom)**2\n",
    "ew = Halpha_bolometric_correction / llam"
   ]
  },
  {
   "cell_type": "code",
   "execution_count": 15,
   "metadata": {},
   "outputs": [
    {
     "data": {
      "image/png": "[encoded data removed]",
      "text/plain": [
       "<Figure size 350x350 with 2 Axes>"
      ]
     },
     "metadata": {},
     "output_type": "display_data"
    }
   ],
   "source": [
    "vmin, vmax = 2., 4.8\n",
    "cmap = cmr.torch\n",
    "\n",
    "\n",
    "x_bin_edges = convert_to_bin_edges(np.log10(masses.to('Msun').value)) \n",
    "y_bin_edges = convert_to_bin_edges(np.log10(grid.accretion_rate_eddington))\n",
    "\n",
    "left = 0.2\n",
    "right = 0.95\n",
    "bottom = 0.15\n",
    "top = 0.8\n",
    "\n",
    "fig, ax = plt.subplots(figsize=(3.5,3.5))\n",
    "plt.subplots_adjust(\n",
    "    left=left, \n",
    "    right=right, \n",
    "    top=top, \n",
    "    bottom=bottom)\n",
    "\n",
    "cax = fig.add_axes((left, top+0.02, right-left, 0.05))\n",
    "\n",
    "\n",
    "norm = mpl.colors.Normalize(vmin=vmin, vmax=vmax)\n",
    "# norm = mpl.colors.Normalize()\n",
    "\n",
    "cbar = fig.colorbar(mpl.cm.ScalarMappable(norm=norm, cmap=cmap), cax=cax, orientation = 'horizontal') # add the colourbar\n",
    "\n",
    "cax.xaxis.tick_top()\n",
    "cax.xaxis.set_label_position('top')\n",
    "cax.set_xlabel(rf'$\\rm log_{{10}}[EW(H\\alpha)/\\AA]$')\n",
    "\n",
    "\n",
    "extent = (x_bin_edges[0], x_bin_edges[-1], y_bin_edges[0], y_bin_edges[-1])\n",
    "\n",
    "\n",
    "\n",
    "\n",
    "\n",
    "ax.imshow(np.log10(ew.T), aspect = 'auto', origin = 'lower', cmap = cmap, extent = extent, vmin=vmin, vmax=vmax)\n",
    "# ax.imshow(slice, aspect = 'auto', origin = 'lower', extent = (z_bin_edges[0], z_bin_edges[-1], log10L_bin_edges[0], log10L_bin_edges[-1]), vmin = vmin, vmax = vmax, cmap = cmap)\n",
    "\n",
    "ax.set_xlabel(r'$\\rm log_{10}(M_{\\bullet}/M_{\\odot})$')\n",
    "ax.set_ylabel(r'$\\rm log_{10}(\\dot{M}_{\\bullet}/\\dot{M}_{\\bullet, Edd})$')\n",
    "\n",
    "ax.grid(False)\n",
    "\n",
    "fig.savefig(f'figures/qsosed_halpha_ew.pdf')\n",
    "plt.show()"
   ]
  }
 ],
 "metadata": {
  "kernelspec": {
   "display_name": "venv",
   "language": "python",
   "name": "python3"
  },
  "language_info": {
   "codemirror_mode": {
    "name": "ipython",
    "version": 3
   },
   "file_extension": ".py",
   "mimetype": "text/x-python",
   "name": "python",
   "nbconvert_exporter": "python",
   "pygments_lexer": "ipython3",
   "version": "3.10.11"
  },
  "orig_nbformat": 4,
  "vscode": {
   "interpreter": {
    "hash": "524fbef3bf4e4de2693965b677d6583b49ff9cfd1d7f372eba34dde8705b1f0a"
   }
  }
 },
 "nbformat": 4,
 "nbformat_minor": 2
}
